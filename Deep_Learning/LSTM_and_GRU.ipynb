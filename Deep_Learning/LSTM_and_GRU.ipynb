{
  "cells": [
    {
      "cell_type": "code",
      "execution_count": null,
      "metadata": {
        "id": "sCCmHHUoX8t4"
      },
      "outputs": [],
      "source": [
        "import tensorflow as tf"
      ]
    },
    {
      "cell_type": "markdown",
      "metadata": {
        "id": "3dPKXHaSnIX4"
      },
      "source": [
        "## LSTM"
      ]
    },
    {
      "cell_type": "code",
      "execution_count": null,
      "metadata": {
        "id": "__u-BYZKYD9o"
      },
      "outputs": [],
      "source": [
        "inputs = tf.random.normal([32, 10, 8])\n",
        "lstm = tf.keras.layers.LSTM(4)\n",
        "output = lstm(inputs)"
      ]
    },
    {
      "cell_type": "code",
      "execution_count": null,
      "metadata": {
        "colab": {
          "base_uri": "https://localhost:8080/"
        },
        "id": "o_ZNEUOlYOON",
        "outputId": "d4e1aabc-b812-4cc9-db45-2eab35988de0"
      },
      "outputs": [
        {
          "data": {
            "text/plain": [
              "TensorShape([32, 10, 8])"
            ]
          },
          "execution_count": 4,
          "metadata": {},
          "output_type": "execute_result"
        }
      ],
      "source": [
        "inputs.shape"
      ]
    },
    {
      "cell_type": "code",
      "execution_count": null,
      "metadata": {
        "colab": {
          "base_uri": "https://localhost:8080/"
        },
        "id": "JZioQZb9YPxD",
        "outputId": "4bd123cf-7168-400b-d032-9235bd4d7293"
      },
      "outputs": [
        {
          "data": {
            "text/plain": [
              "TensorShape([32, 4])"
            ]
          },
          "execution_count": 11,
          "metadata": {},
          "output_type": "execute_result"
        }
      ],
      "source": [
        "output.shape"
      ]
    },
    {
      "cell_type": "code",
      "execution_count": null,
      "metadata": {
        "id": "U-fy124dYZ2C"
      },
      "outputs": [],
      "source": [
        "lstm = tf.keras.layers.LSTM(4, return_sequences=True, return_state=True)\n",
        "whole_seq_output, final_memory_state, final_carry_state = lstm(inputs)"
      ]
    },
    {
      "cell_type": "code",
      "execution_count": null,
      "metadata": {
        "colab": {
          "base_uri": "https://localhost:8080/"
        },
        "id": "Kc-nCt4IYsuh",
        "outputId": "2f9ec042-078a-410a-f769-23e5f9272157"
      },
      "outputs": [
        {
          "data": {
            "text/plain": [
              "TensorShape([32, 10, 4])"
            ]
          },
          "execution_count": 10,
          "metadata": {},
          "output_type": "execute_result"
        }
      ],
      "source": [
        "whole_seq_output.shape"
      ]
    },
    {
      "cell_type": "code",
      "execution_count": null,
      "metadata": {
        "colab": {
          "base_uri": "https://localhost:8080/"
        },
        "id": "P04y5tVCYuLt",
        "outputId": "dfeee366-088a-4237-db8a-0a483876b56f"
      },
      "outputs": [
        {
          "data": {
            "text/plain": [
              "TensorShape([32, 4])"
            ]
          },
          "execution_count": 13,
          "metadata": {},
          "output_type": "execute_result"
        }
      ],
      "source": [
        "final_memory_state.shape"
      ]
    },
    {
      "cell_type": "code",
      "execution_count": null,
      "metadata": {
        "colab": {
          "base_uri": "https://localhost:8080/"
        },
        "id": "ZZdyNTxwY3vU",
        "outputId": "46c21d82-271b-4f75-8629-3ddabe2a61bc"
      },
      "outputs": [
        {
          "data": {
            "text/plain": [
              "TensorShape([32, 4])"
            ]
          },
          "execution_count": 15,
          "metadata": {},
          "output_type": "execute_result"
        }
      ],
      "source": [
        "final_carry_state.shape"
      ]
    },
    {
      "cell_type": "markdown",
      "metadata": {
        "id": "GTgi0dXqnKcR"
      },
      "source": [
        "## GRU"
      ]
    },
    {
      "cell_type": "code",
      "execution_count": null,
      "metadata": {
        "id": "v4l6DoHeY_G9"
      },
      "outputs": [],
      "source": [
        "gru = tf.keras.layers.GRU(4)\n",
        "output = gru(inputs)\n"
      ]
    },
    {
      "cell_type": "code",
      "execution_count": null,
      "metadata": {
        "colab": {
          "base_uri": "https://localhost:8080/"
        },
        "id": "N6ZmSdIunHoA",
        "outputId": "40f1f6ab-90f1-4c4b-89b9-aa1c7c0e65c8"
      },
      "outputs": [
        {
          "data": {
            "text/plain": [
              "TensorShape([32, 10, 8])"
            ]
          },
          "execution_count": 19,
          "metadata": {},
          "output_type": "execute_result"
        }
      ],
      "source": [
        "inputs.shape"
      ]
    },
    {
      "cell_type": "code",
      "execution_count": null,
      "metadata": {
        "colab": {
          "base_uri": "https://localhost:8080/"
        },
        "id": "n5XFmt7vnHl4",
        "outputId": "b794182d-55f3-4e89-8f77-853faa0ddf74"
      },
      "outputs": [
        {
          "data": {
            "text/plain": [
              "TensorShape([32, 4])"
            ]
          },
          "execution_count": 20,
          "metadata": {},
          "output_type": "execute_result"
        }
      ],
      "source": [
        "output.shape"
      ]
    },
    {
      "cell_type": "code",
      "execution_count": null,
      "metadata": {
        "id": "RreRSEKknHjg"
      },
      "outputs": [],
      "source": [
        "gru = tf.keras.layers.GRU(4, return_sequences=True, return_state=True)"
      ]
    },
    {
      "cell_type": "code",
      "execution_count": null,
      "metadata": {
        "id": "IxsgZ-ypnXZR"
      },
      "outputs": [],
      "source": [
        "whole_sequence_output, final_state = gru(inputs)"
      ]
    },
    {
      "cell_type": "code",
      "execution_count": null,
      "metadata": {
        "colab": {
          "base_uri": "https://localhost:8080/"
        },
        "id": "Ox09DVlUnXXp",
        "outputId": "4a510335-f63a-48b5-8825-2eec932bc4d8"
      },
      "outputs": [
        {
          "data": {
            "text/plain": [
              "TensorShape([32, 10, 4])"
            ]
          },
          "execution_count": 23,
          "metadata": {},
          "output_type": "execute_result"
        }
      ],
      "source": [
        "whole_sequence_output.shape"
      ]
    },
    {
      "cell_type": "code",
      "execution_count": null,
      "metadata": {
        "colab": {
          "base_uri": "https://localhost:8080/"
        },
        "id": "W3RZmLSrnXVI",
        "outputId": "739e99fc-a603-4fce-a5fd-bf2b2710b553"
      },
      "outputs": [
        {
          "data": {
            "text/plain": [
              "TensorShape([32, 4])"
            ]
          },
          "execution_count": 24,
          "metadata": {},
          "output_type": "execute_result"
        }
      ],
      "source": [
        "final_state.shape"
      ]
    },
    {
      "cell_type": "code",
      "execution_count": null,
      "metadata": {
        "id": "PIdKtuB5neYd"
      },
      "outputs": [],
      "source": []
    }
  ],
  "metadata": {
    "colab": {
      "provenance": []
    },
    "kernelspec": {
      "display_name": "Python 3",
      "name": "python3"
    },
    "language_info": {
      "name": "python",
      "version": "3.13.2"
    }
  },
  "nbformat": 4,
  "nbformat_minor": 0
}
